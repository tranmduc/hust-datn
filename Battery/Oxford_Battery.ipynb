{
  "nbformat": 4,
  "nbformat_minor": 0,
  "metadata": {
    "colab": {
      "name": "Oxford_Battery.ipynb",
      "provenance": [],
      "collapsed_sections": []
    },
    "kernelspec": {
      "name": "python3",
      "display_name": "Python 3"
    },
    "language_info": {
      "name": "python"
    }
  },
  "cells": [
    {
      "cell_type": "code",
      "metadata": {
        "id": "MsTXnBDIKlXv"
      },
      "source": [
        "import pandas as pd\n",
        "import numpy as np\n",
        "import matplotlib.pyplot as plt\n",
        "from scipy.spatial.distance import cdist\n",
        "import pickle\n",
        "from sklearn.metrics import mean_squared_error\n",
        "from sklearn.metrics import mean_absolute_error\n",
        "from sklearn.metrics import r2_score"
      ],
      "execution_count": 1,
      "outputs": []
    },
    {
      "cell_type": "code",
      "metadata": {
        "id": "OwGbkMw_Kpty"
      },
      "source": [
        "#Load Data\n",
        "path = \"data.csv\"\n",
        "df = pd.read_csv(path)\n",
        "\n",
        "df"
      ],
      "execution_count": null,
      "outputs": []
    },
    {
      "cell_type": "code",
      "metadata": {
        "id": "YfWSV_cdKv2b"
      },
      "source": [
        "#Get Cells\n",
        "df = df[(df['Cell'] == 'Cell1') | (df['Cell'] == 'Cell4')]\n",
        "df = df.reset_index(drop=True)\n",
        "\n",
        "df"
      ],
      "execution_count": null,
      "outputs": []
    },
    {
      "cell_type": "code",
      "metadata": {
        "id": "Ruz8d1kgK2U_"
      },
      "source": [
        "#Get features\n",
        "features = list(df.columns)[4:6]\n",
        "data = df[features]\n",
        "\n",
        "data"
      ],
      "execution_count": null,
      "outputs": []
    },
    {
      "cell_type": "code",
      "metadata": {
        "id": "kVbNTB9nK_Lv"
      },
      "source": [
        "def DistanceMatrix(center,x):\n",
        "    distanceMatrix = cdist(x, center, 'euclidean').T\n",
        "    return distanceMatrix\n",
        "\n",
        "def HardPartition(center,x):\n",
        "    n,kk=x.shape\n",
        "    result=np.zeros((n,1))\n",
        "    d=DistanceMatrix(center,x)\n",
        "    mind=d.min(axis=0)\n",
        "    for i in range(n):\n",
        "        result[i] =(d[:,[i]]==mind[i]).argmax()\n",
        "    return result"
      ],
      "execution_count": null,
      "outputs": []
    },
    {
      "cell_type": "code",
      "metadata": {
        "id": "fJ7Yv-hPLBMF"
      },
      "source": [
        "centers_file = open(\"center.pkl\",'rb')\n",
        "centers = pickle.load(centers_file)\n",
        "\n",
        "labels_file = open(\"label.pkl\",'rb')\n",
        "labels = pickle.load(labels_file)"
      ],
      "execution_count": null,
      "outputs": []
    },
    {
      "cell_type": "code",
      "metadata": {
        "id": "fw76zh2NLHV_"
      },
      "source": [
        "result = HardPartition(centers, data)\n",
        "\n",
        "result"
      ],
      "execution_count": null,
      "outputs": []
    },
    {
      "cell_type": "code",
      "metadata": {
        "id": "S_N8hpKSLKL-"
      },
      "source": [
        "df['clusters'] = result"
      ],
      "execution_count": null,
      "outputs": []
    },
    {
      "cell_type": "code",
      "metadata": {
        "id": "Tj0T51PpLSPE"
      },
      "source": [
        "#Get prediction value\n",
        "def pred_t_remain(row):\n",
        "  return int(labels[int(row['clusters'])])\n",
        "\n",
        "df['pred_t_remain'] = df.apply (pred_t_remain, axis=1)\n",
        "\n",
        "df"
      ],
      "execution_count": null,
      "outputs": []
    },
    {
      "cell_type": "code",
      "metadata": {
        "id": "f26CsVb5LYJ_"
      },
      "source": [
        "#Evaluation\n",
        "rmse = mean_squared_error(df['t_remain'], df['pred_t_remain'], squared=False)\n",
        "mae = mean_absolute_error(df['t_remain'], df['pred_t_remain'])\n",
        "r2 = r2_score(df['t_remain'], df['pred_t_remain'])\n",
        "\n",
        "print(rmse)\n",
        "print(mae)\n",
        "print(r2)"
      ],
      "execution_count": null,
      "outputs": []
    },
    {
      "cell_type": "code",
      "metadata": {
        "id": "MEcDj6TqLa2X"
      },
      "source": [
        "#Convert remaining time charging to minutes\n",
        "def t_remain_to_min(row):\n",
        "  return int(row['t_remain']/60)\n",
        "\n",
        "def center_t_to_min(row):\n",
        "  return int(row['pred_t_remain']/60)\n",
        "\n",
        "df['t_remain_to_min'] = df.apply (t_remain_to_min, axis=1)\n",
        "df['center_t_to_min'] = df.apply (center_t_to_min, axis=1)\n",
        "\n",
        "df"
      ],
      "execution_count": null,
      "outputs": []
    },
    {
      "cell_type": "code",
      "metadata": {
        "id": "GklWhUV-LjBA"
      },
      "source": [
        "#Create prediction error column\n",
        "df['t_diff'] = abs(df['center_t_to_min'] - df['t_remain_to_min'])"
      ],
      "execution_count": null,
      "outputs": []
    },
    {
      "cell_type": "code",
      "metadata": {
        "id": "fC-bO76fLoPA"
      },
      "source": [
        "#Visualize\n",
        "tmp = df\n",
        "fig, ax = plt.subplots(figsize=(8,4))\n",
        "tmp.groupby(['t_remain_to_min']).mean()['t_diff'].plot(ax=ax)\n",
        "ax.set_xlabel('Time Remaining (minutes)')\n",
        "ax.set_ylabel('Prediction Error (minutes)')\n",
        "ax.invert_xaxis()"
      ],
      "execution_count": null,
      "outputs": []
    }
  ]
}